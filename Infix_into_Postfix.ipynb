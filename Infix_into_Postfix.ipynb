{
 "cells": [
  {
   "cell_type": "markdown",
   "id": "34ac745d",
   "metadata": {},
   "source": [
    "<h2 style=\"color:green; font-size:20px\"><b>Stack (Infix into Postfix)</b></h2>"
   ]
  },
  {
   "cell_type": "markdown",
   "id": "f7b4fc51",
   "metadata": {},
   "source": [
    "<p>\n",
    "<ul>\n",
    "<li>Accept an <em>Infix</em> format </li>\n",
    "<li>Convert into <em>Postfix</em></li>\n",
    "<li>Give the correct answer</li>\n",
    "</ul>\n",
    "</p>"
   ]
  },
  {
   "cell_type": "code",
   "execution_count": null,
   "id": "87e58ef6",
   "metadata": {},
   "outputs": [],
   "source": [
    "def prec(operator):\n",
    "    if operator in (\"+\", \"-\"):\n",
    "        return 1\n",
    "    elif operator in (\"*\", \"/\"):\n",
    "        return 2\n",
    "    elif operator == \"^\":\n",
    "       return 3\n",
    "    else:\n",
    "       return -1\n",
    "\n",
    "def infixToPostfix(expression):\n",
    "    stack = []\n",
    "    new_postfix = []\n",
    "    expression = expression.split()\n",
    "\n",
    "    for i in expression:\n",
    "        if i.isdigit():\n",
    "           new_postfix.append(i)\n",
    "        elif i == \"(\":\n",
    "            stack.append(i)\n",
    "        elif i == \")\":\n",
    "             while stack and stack[-1]!= \"(\":\n",
    "                new_postfix.append(stack.pop())\n",
    "                stack.pop()\n",
    "        else:\n",
    "            while stack and prec(i) <= prec(stack[-1]) and stack[-1]!= \"(\":\n",
    "                 new_postfix.append(stack.pop())\n",
    "            stack.append(i)\n",
    "\n",
    "    while stack:\n",
    "         new_postfix.append(stack.pop())\n",
    "    return ' '.join(new_postfix)\n",
    "def calculatePostfix(postfix_expr):\n",
    "    stack = []\n",
    "    for i in postfix_expr.split():\n",
    "        if i.isdigit():\n",
    "           stack.append(float(i) if '.' in i else int(i))\n",
    "        else:\n",
    "            num1 = stack.pop()\n",
    "            num2 = stack.pop()\n",
    "            if i == \"+\":\n",
    "                stack.append(num1 + num2)\n",
    "            elif i == \"-\":\n",
    "                 stack.append(num2 - num1)\n",
    "            elif i == \"*\":\n",
    "                 stack.append(num1 * num2)\n",
    "            elif i == \"/\":\n",
    "                 stack.append(num2 / num1)\n",
    "            elif i == \"^\":\n",
    "                 stack.append(num2 ** num1)\n",
    "    if stack:\n",
    "        return stack[0]\n",
    "    else:\n",
    "         return \" you entry operator not found\"\n",
    "expre = input(\"Enter infix expression space separated: \")\n",
    "convertExpre = infixToPostfix(expre)\n",
    "print(\"Postfix expression:\", convertExpre)\n",
    "Answer = calculatePostfix(convertExpre) \n",
    "print(\"Final Answer:\", Answer)"
   ]
  }
 ],
 "metadata": {
  "kernelspec": {
   "display_name": "Python 3",
   "language": "python",
   "name": "python3"
  },
  "language_info": {
   "codemirror_mode": {
    "name": "ipython",
    "version": 3
   },
   "file_extension": ".py",
   "mimetype": "text/x-python",
   "name": "python",
   "nbconvert_exporter": "python",
   "pygments_lexer": "ipython3",
   "version": "3.13.0"
  }
 },
 "nbformat": 4,
 "nbformat_minor": 5
}
