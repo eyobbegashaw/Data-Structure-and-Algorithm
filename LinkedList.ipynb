{
 "cells": [
  {
   "cell_type": "markdown",
   "id": "4f8d5496",
   "metadata": {},
   "source": [
    "### Linked List Data Structure"
   ]
  },
  {
   "cell_type": "code",
   "execution_count": null,
   "id": "405330b5",
   "metadata": {},
   "outputs": [],
   "source": [
    "class   Node:\n",
    "    def __init__(self,data):\n",
    "        self.data=data\n",
    "        self.next=None\n",
    "class LinkedList:\n",
    "    def __init__(self):\n",
    "        self.head=None\n",
    "        self.size=0\n",
    "    # insert at begining\n",
    "    def insert_begin(self,data):\n",
    "        new_node=Node(data)\n",
    "        new_node.next=self.head\n",
    "        self.head=new_node\n",
    "        self.size+=1\n",
    "    # insert at end\n",
    "    def insert_end(self,data):\n",
    "        new_node=Node(data)\n",
    "        if not self.head:\n",
    "            self.head=new_node\n",
    "        else:\n",
    "            current=self.head\n",
    "            while current.next:\n",
    "                current=current.next\n",
    "            current.next=new_node\n",
    "        self.size+=1\n",
    "    # display the linked list\n",
    "    def print_list(self):\n",
    "        current=self.head\n",
    "        while current:\n",
    "            print(current.data,end=\"->\")\n",
    "            current=current.next\n",
    "        print(\"None\")\n",
    "        print(f\"size={self.size}\")\n",
    "    # insert by index\n",
    "    def insert_at(self,index,data):\n",
    "        if index<0 or index>self.size:\n",
    "            raise IndexError(\"out of index\")\n",
    "        if index==0:\n",
    "            self.insert_begin(data)\n",
    "        elif index==self.size:\n",
    "            self.insert_end(data)\n",
    "        else:\n",
    "            new_node=Node(data)\n",
    "            current=self.head\n",
    "            for _ in range(index-1):\n",
    "                current=current.next\n",
    "            new_node.next=current.next\n",
    "            current.next=new_node\n",
    "            self.size+=1\n",
    "\n",
    "# create an objrct \n",
    "if __name__==\"__main__\":\n",
    "    li=LinkedList()\n",
    "    li.insert_begin(\"10\")\n",
    "    li.insert_end(11)\n",
    "    li.insert_end(12)\n",
    "    li.insert_at(4,13)\n",
    "    li.print_list()\n"
   ]
  }
 ],
 "metadata": {
  "language_info": {
   "name": "python"
  }
 },
 "nbformat": 4,
 "nbformat_minor": 5
}
