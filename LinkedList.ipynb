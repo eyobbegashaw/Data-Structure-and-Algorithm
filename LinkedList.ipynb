{
 "cells": [
  {
   "cell_type": "markdown",
   "id": "4f8d5496",
   "metadata": {},
   "source": [
    "### Linked List Data Structure"
   ]
  },
  {
   "cell_type": "markdown",
   "id": "cdbf27df",
   "metadata": {},
   "source": [
    "#### create node "
   ]
  },
  {
   "cell_type": "code",
   "execution_count": 24,
   "id": "4320d4dd",
   "metadata": {},
   "outputs": [],
   "source": [
    "class   Node:\n",
    "    def __init__(self,data):\n",
    "        self.data=data\n",
    "        self.next=None\n"
   ]
  },
  {
   "cell_type": "code",
   "execution_count": null,
   "id": "405330b5",
   "metadata": {},
   "outputs": [],
   "source": [
    "class LinkedList:\n",
    "    def __init__(self):\n",
    "        self.head=None\n",
    "        self.size=0\n",
    "\n",
    "    #  Insert at beginning - O(1)\n",
    "    def insert_begin(self,data):\n",
    "        new_node=Node(data)\n",
    "        new_node.next=self.head\n",
    "        self.head=new_node\n",
    "        self.size+=1\n",
    "\n",
    "    # Insert at end - O(n)\n",
    "    def insert_end(self,data):\n",
    "        new_node=Node(data)\n",
    "        if not self.head:\n",
    "            self.head=new_node\n",
    "        else:\n",
    "            current=self.head\n",
    "            while current.next:\n",
    "                current=current.next\n",
    "            current.next=new_node\n",
    "        self.size+=1\n",
    "\n",
    "    # Insert at specific index - O(n)\n",
    "    def insert_at(self,index,data):\n",
    "        if index<0 or index>self.size:\n",
    "            raise IndexError(\"out of index\")\n",
    "        if index==0:\n",
    "            self.insert_begin(data)\n",
    "        elif index==self.size:\n",
    "            self.insert_end(data)\n",
    "        else:\n",
    "            new_node=Node(data)\n",
    "            current=self.head\n",
    "            for _ in range(index-1):\n",
    "                current=current.next\n",
    "            new_node.next=current.next\n",
    "            current.next=new_node\n",
    "            self.size+=1\n",
    "\n",
    "    # display the linked list\n",
    "    def print_list(self):\n",
    "        current=self.head\n",
    "        while current:\n",
    "            print(current.data,end=\"->\")\n",
    "            current=current.next\n",
    "        print(\"None\")\n",
    "        print(f\"size={self.size}\")\n",
    "    \n",
    "    # Delete first node - O(1)\n",
    "    def delete_first(self):\n",
    "        if self.head==None:\n",
    "            return None \n",
    "        else:\n",
    "            temp=self.head\n",
    "            self.head=self.head.next\n",
    "            temp=None\n",
    "            self.size-=1\n",
    "            \n",
    "    # Delete last node - O(n)\n",
    "    def delete_last(self):\n",
    "        if self.head==None:\n",
    "            return None\n",
    "        if not self.head.next:\n",
    "            self.delete_last()\n",
    "        current=self.head\n",
    "        while current.next.next:\n",
    "            current=current.next\n",
    "        temp=current.next\n",
    "        temp=None\n",
    "        "
   ]
  },
  {
   "cell_type": "code",
   "execution_count": null,
   "id": "b620d20e",
   "metadata": {},
   "outputs": [],
   "source": [
    "li=LinkedList()"
   ]
  },
  {
   "cell_type": "code",
   "execution_count": 44,
   "id": "fd94d010",
   "metadata": {},
   "outputs": [],
   "source": [
    "\n",
    "li.insert_end(3)\n",
    "li.insert_end(2)  "
   ]
  },
  {
   "cell_type": "code",
   "execution_count": 45,
   "id": "124d531e",
   "metadata": {},
   "outputs": [],
   "source": [
    "li.insert_begin(4)\n",
    "li.insert_begin(5)"
   ]
  },
  {
   "cell_type": "code",
   "execution_count": 34,
   "id": "d81a66c3",
   "metadata": {},
   "outputs": [],
   "source": [
    "li.delete_first()"
   ]
  },
  {
   "cell_type": "code",
   "execution_count": 49,
   "id": "911eb998",
   "metadata": {},
   "outputs": [],
   "source": [
    "li.delete_last()"
   ]
  },
  {
   "cell_type": "code",
   "execution_count": null,
   "id": "856d79eb",
   "metadata": {},
   "outputs": [],
   "source": [
    "li.print_list()\n",
    " "
   ]
  }
 ],
 "metadata": {
  "kernelspec": {
   "display_name": "Python 3",
   "language": "python",
   "name": "python3"
  },
  "language_info": {
   "codemirror_mode": {
    "name": "ipython",
    "version": 3
   },
   "file_extension": ".py",
   "mimetype": "text/x-python",
   "name": "python",
   "nbconvert_exporter": "python",
   "pygments_lexer": "ipython3",
   "version": "3.13.0"
  }
 },
 "nbformat": 4,
 "nbformat_minor": 5
}
