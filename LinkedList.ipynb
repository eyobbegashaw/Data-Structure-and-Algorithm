{
 "cells": [
  {
   "cell_type": "markdown",
   "id": "4f8d5496",
   "metadata": {},
   "source": [
    "### Linked List Data Structure"
   ]
  },
  {
   "cell_type": "markdown",
   "id": "cdbf27df",
   "metadata": {},
   "source": [
    "#### single Linked List "
   ]
  },
  {
   "cell_type": "code",
   "execution_count": 58,
   "id": "4320d4dd",
   "metadata": {},
   "outputs": [],
   "source": [
    "class   Node:\n",
    "    def __init__(self,data):\n",
    "        self.data=data\n",
    "        self.next=None\n"
   ]
  },
  {
   "cell_type": "code",
   "execution_count": null,
   "id": "405330b5",
   "metadata": {},
   "outputs": [],
   "source": [
    "class LinkedList:\n",
    "    def __init__(self):\n",
    "        self.head=None\n",
    "        self.size=0\n",
    "\n",
    "    #  Insert at beginning - O(1)\n",
    "    def insert_begin(self,data):\n",
    "        new_node=Node(data)\n",
    "        new_node.next=self.head\n",
    "        self.head=new_node\n",
    "        self.size+=1\n",
    "\n",
    "    # Insert at end - O(n)\n",
    "    def insert_end(self,data):\n",
    "        new_node=Node(data)\n",
    "        if not self.head:\n",
    "            self.head=new_node\n",
    "        else:\n",
    "            current=self.head\n",
    "            while current.next:\n",
    "                current=current.next\n",
    "            current.next=new_node\n",
    "        self.size+=1\n",
    "\n",
    "    # Insert at specific index - O(n)\n",
    "    def insert_at(self,index,data):\n",
    "        if index<0 or index>self.size:\n",
    "            raise IndexError(\"out of index\")\n",
    "        if index==0:\n",
    "            self.insert_begin(data)\n",
    "        elif index==self.size:\n",
    "            self.insert_end(data)\n",
    "        else:\n",
    "            new_node=Node(data)\n",
    "            current=self.head\n",
    "            for _ in range(index-1):\n",
    "                current=current.next\n",
    "            new_node.next=current.next\n",
    "            current.next=new_node\n",
    "            self.size+=1\n",
    "\n",
    "    # display the linked list\n",
    "    def print_list(self):\n",
    "        current=self.head\n",
    "        while current:\n",
    "            print(current.data,end=\"->\")\n",
    "            current=current.next\n",
    "        print(\"None\")\n",
    "        print(f\"size={self.size}\")\n",
    "    \n",
    "    # Delete first node - O(1)\n",
    "    def delete_frist(self):\n",
    "        if self.head==None:\n",
    "            return None \n",
    "        else:\n",
    "            temp=self.head\n",
    "            self.head=self.head.next\n",
    "            temp=None\n",
    "            self.size-=1\n",
    "            \n",
    "    # Delete last node - O(n)\n",
    "    def delete_last(self):\n",
    "        if self.head==None:\n",
    "            return None\n",
    "        if not self.head.next:\n",
    "            self.delete_frist()\n",
    "        current=self.head\n",
    "        while current.next.next:\n",
    "            current=current.next\n",
    "        temp=current.next\n",
    "        current.next=None\n",
    "        temp=None\n",
    "        self.size-=1\n",
    "      \n",
    "    #  delete all nodes -O(n)\n",
    "    def delete_all(self):\n",
    "        current=self.head\n",
    "        while current:\n",
    "            temp=current\n",
    "            current=current.next\n",
    "            temp=None\n",
    "        self.head=None\n",
    "        self.size=0\n",
    "    \n",
    "    # delete by value -O(n)\n",
    "    def delete_value(self,data):\n",
    "        if self.head==None:\n",
    "            return None\n",
    "        if self.head.data==data:\n",
    "            self.delete_frist()\n",
    "        current=self.head\n",
    "        while current:\n",
    "            if current.next and current.next.data==data:\n",
    "                temp=current.next\n",
    "                current.next=temp.next\n",
    "                temp=None\n",
    "                self.size-=1\n",
    "                return\n",
    "            current=current.next\n",
    "        print(f\"{data} not found\")\n",
    "\n",
    "    #delete at specific index - O(n)\n",
    "    def delete_specific(self,index):\n",
    "        if index<0 or index> self.size:\n",
    "            raise IndexError(\"out of index\")\n",
    "        if index==0:\n",
    "            self.detele_frist()\n",
    "        elif index==self.size:\n",
    "            self.delete_last()\n",
    "        else:\n",
    "            current=self.head\n",
    "            for _ in range(index-1):\n",
    "                current=current.next\n",
    "            temp=current.next\n",
    "            current.next=temp.next\n",
    "            temp=None\n",
    "            self.size-=1\n",
    "    \n",
    "    # search - O(n)\n",
    "    def search(self,data):\n",
    "        current=self.head\n",
    "        while current:\n",
    "            if current.data==data:\n",
    "                print(f\"{data} found \")\n",
    "            current=current.next\n",
    "        print(f\"{data} not found\")\n",
    "    \n",
    "    # sorting -O(n^2)\n",
    "    def sort(self):\n",
    "        if self.head==None:\n",
    "            return None\n",
    "        current=self.head\n",
    "        while current:\n",
    "            index=current.next\n",
    "            while index:\n",
    "                if current.data>index.data:\n",
    "                    current.data,index.data=index.data,current.data\n",
    "                index=index.next\n",
    "            current=current.next\n",
    "        print(\"sorted\")\n",
    "    "
   ]
  },
  {
   "cell_type": "code",
   "execution_count": 59,
   "id": "b620d20e",
   "metadata": {},
   "outputs": [],
   "source": [
    "li=LinkedList()"
   ]
  },
  {
   "cell_type": "code",
   "execution_count": 60,
   "id": "fd94d010",
   "metadata": {},
   "outputs": [],
   "source": [
    "\n",
    "li.insert_end(3)\n",
    "li.insert_end(2)  "
   ]
  },
  {
   "cell_type": "code",
   "execution_count": 61,
   "id": "124d531e",
   "metadata": {},
   "outputs": [],
   "source": [
    "li.insert_begin(4)\n",
    "li.insert_begin(5)"
   ]
  },
  {
   "cell_type": "code",
   "execution_count": 13,
   "id": "d81a66c3",
   "metadata": {},
   "outputs": [],
   "source": [
    "li.delete_frist()"
   ]
  },
  {
   "cell_type": "code",
   "execution_count": 15,
   "id": "911eb998",
   "metadata": {},
   "outputs": [],
   "source": [
    "li.delete_last()"
   ]
  },
  {
   "cell_type": "code",
   "execution_count": 24,
   "id": "8b819f17",
   "metadata": {},
   "outputs": [],
   "source": [
    "li.delete_all()"
   ]
  },
  {
   "cell_type": "code",
   "execution_count": 17,
   "id": "f40143c2",
   "metadata": {},
   "outputs": [],
   "source": [
    "li.delete_specific(1)"
   ]
  },
  {
   "cell_type": "code",
   "execution_count": 22,
   "id": "2a87099d",
   "metadata": {},
   "outputs": [],
   "source": [
    "li.delete_value(4)"
   ]
  },
  {
   "cell_type": "code",
   "execution_count": null,
   "id": "e691320e",
   "metadata": {},
   "outputs": [],
   "source": [
    "li.search(7)"
   ]
  },
  {
   "cell_type": "code",
   "execution_count": null,
   "id": "f2bc5c52",
   "metadata": {},
   "outputs": [],
   "source": [
    "li.sort()"
   ]
  },
  {
   "cell_type": "markdown",
   "id": "49f3bc7a",
   "metadata": {},
   "source": [
    "display all in linked list"
   ]
  },
  {
   "cell_type": "code",
   "execution_count": null,
   "id": "856d79eb",
   "metadata": {},
   "outputs": [],
   "source": [
    "li.print_list()\n",
    " "
   ]
  },
  {
   "cell_type": "markdown",
   "id": "92ae69f5",
   "metadata": {},
   "source": [
    "### Double Linked List "
   ]
  },
  {
   "cell_type": "code",
   "execution_count": null,
   "id": "f8ef2844",
   "metadata": {},
   "outputs": [],
   "source": [
    "#  crate double linked list\n",
    "class Node:\n",
    "    def __init__(self,data):\n",
    "        self.data=data\n",
    "        self.next=None\n",
    "        self.prev=None\n",
    "class DoublelinkedList:\n",
    "    def __init__(self):\n",
    "        self.heaad=None\n",
    "        self.size=0\n",
    "\n",
    "    # insert at beginning - O(1)\n",
    "    def insert_start(self,data):\n",
    "        new_node=Node(data)\n",
    "        new_node.next=self.head\n",
    "        self.head=new_node\n",
    "        if self.head.next:\n",
    "            self.head.next.prev=new_node\n",
    "        self.size+=1\n",
    "    \n",
    "    # insert at end - O(n)\n",
    "    def insert_end(self,data):\n",
    "        new_node=Node(data)\n",
    "        if self.head==None:\n",
    "            self.head=new_node\n",
    "        else:\n",
    "            current=self.head\n",
    "            while current.next:\n",
    "                current=current.next\n",
    "            current.next=new_node\n",
    "            new_node.prev=current\n",
    "        self.size+=1\n",
    "    \n",
    "    # insert at specific index - O(n)\n",
    "    def insert_specific(self,index,data):\n",
    "        if index<0 or index>self.size:\n",
    "            raise IndexError(\"out of index\")\n",
    "        if index==0:\n",
    "            self.insert_start(data)\n",
    "        elif index==self.size:\n",
    "            self.insert_end(data)\n",
    "        else:\n",
    "            new_node=Node(data)\n",
    "            current=self.head\n",
    "            for _ in range(index-1):\n",
    "                   current=current.next\n",
    "            new_node.next=current.next\n",
    "            current.next=new_node\n",
    "            new_node.prev=current\n",
    "            current.next.prev=new_node\n",
    "            self.size+=1\n",
    " "
   ]
  }
 ],
 "metadata": {
  "kernelspec": {
   "display_name": "Python 3",
   "language": "python",
   "name": "python3"
  },
  "language_info": {
   "codemirror_mode": {
    "name": "ipython",
    "version": 3
   },
   "file_extension": ".py",
   "mimetype": "text/x-python",
   "name": "python",
   "nbconvert_exporter": "python",
   "pygments_lexer": "ipython3",
   "version": "3.13.0"
  }
 },
 "nbformat": 4,
 "nbformat_minor": 5
}
